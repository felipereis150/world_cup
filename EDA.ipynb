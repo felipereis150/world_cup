{
 "cells": [
  {
   "cell_type": "code",
   "execution_count": 1,
   "metadata": {},
   "outputs": [],
   "source": [
    "import pandas as pd\n",
    "import numpy as np"
   ]
  },
  {
   "cell_type": "code",
   "execution_count": 2,
   "metadata": {},
   "outputs": [],
   "source": [
    "# importing the data\n",
    "\n",
    "results  = pd.read_csv(\"https://github.com/felipereis150/world_cup/blob/main/data/results.csv?raw=true\", parse_dates=['date'])\n",
    "goalscoers  = pd.read_csv(\"https://github.com/felipereis150/world_cup/blob/main/data/goalscorers.csv?raw=true\", parse_dates=['date'])\n",
    "shootouts  = pd.read_csv(\"https://github.com/felipereis150/world_cup/blob/main/data/shootouts.csv?raw=true\", parse_dates=['date'])\n",
    "conf_names = pd.read_csv('https://github.com/felipereis150/world_cup/blob/main/data/confederation_names.csv?raw=true',encoding='ISO-8859-1', sep = ';', engine='python')\n",
    "cities = pd.read_csv('https://github.com/felipereis150/world_cup/blob/EDA/data/worldcities.csv?raw=true')"
   ]
  },
  {
   "cell_type": "code",
   "execution_count": 3,
   "metadata": {},
   "outputs": [],
   "source": [
    "# creating a new dataframe with all the data\n",
    "\n",
    "futebol_df = results.merge(shootouts, on=['home_team', 'away_team'], how='left')\n",
    "futebol_df = futebol_df.merge(goalscoers, on=['home_team', 'away_team'], how='left')\n",
    "futebol_df = futebol_df.merge(conf_names, left_on='country', right_on='country', how='left')"
   ]
  },
  {
   "cell_type": "code",
   "execution_count": 4,
   "metadata": {},
   "outputs": [
    {
     "name": "stderr",
     "output_type": "stream",
     "text": [
      "C:\\Users\\felip\\AppData\\Local\\Temp\\ipykernel_10152\\1846824870.py:4: SettingWithCopyWarning: \n",
      "A value is trying to be set on a copy of a slice from a DataFrame.\n",
      "Try using .loc[row_indexer,col_indexer] = value instead\n",
      "\n",
      "See the caveats in the documentation: https://pandas.pydata.org/pandas-docs/stable/user_guide/indexing.html#returning-a-view-versus-a-copy\n",
      "  world_cup['year'] = world_cup['date'].dt.year\n",
      "C:\\Users\\felip\\AppData\\Local\\Temp\\ipykernel_10152\\1846824870.py:5: SettingWithCopyWarning: \n",
      "A value is trying to be set on a copy of a slice from a DataFrame.\n",
      "Try using .loc[row_indexer,col_indexer] = value instead\n",
      "\n",
      "See the caveats in the documentation: https://pandas.pydata.org/pandas-docs/stable/user_guide/indexing.html#returning-a-view-versus-a-copy\n",
      "  world_cup['decade'] = world_cup['year'].apply(lambda x: str(x)[2:3] + '0s')\n"
     ]
    }
   ],
   "source": [
    "# cleaning the data\n",
    "\n",
    "world_cup = futebol_df[futebol_df['tournament'] == 'FIFA World Cup']\n",
    "world_cup['year'] = world_cup['date'].dt.year\n",
    "world_cup['decade'] = world_cup['year'].apply(lambda x: str(x)[2:3] + '0s')\n",
    "world_cup = world_cup[world_cup['year'] > 1930]\n",
    "world_cup.reset_index(inplace=True)"
   ]
  },
  {
   "cell_type": "code",
   "execution_count": 5,
   "metadata": {},
   "outputs": [],
   "source": [
    "# removing duplicates\n",
    "cities.drop_duplicates(subset=['city_ascii'], inplace=True)"
   ]
  },
  {
   "cell_type": "code",
   "execution_count": 6,
   "metadata": {},
   "outputs": [],
   "source": [
    "# merging the data\n",
    "\n",
    "world_cup = world_cup.merge(cities[['city', 'lat', 'lng']], left_on='city', right_on='city', how='left')\n",
    "world_cup = world_cup.drop(columns=['index', 'date_x', 'neutral', 'date_y', 'own_goal', 'minute', 'penalty'])\n",
    "world_cup.rename(columns={'acronysm': 'conf', 'lng': 'lon'}, inplace=True)"
   ]
  },
  {
   "cell_type": "code",
   "execution_count": 7,
   "metadata": {},
   "outputs": [
    {
     "data": {
      "text/plain": [
       "home_team                0\n",
       "away_team                0\n",
       "home_score               0\n",
       "away_score               0\n",
       "tournament               0\n",
       "city                     0\n",
       "country                  0\n",
       "winner                6588\n",
       "date                     0\n",
       "team                     0\n",
       "scorer                   0\n",
       "conf                   379\n",
       "confederation name     379\n",
       "year                     0\n",
       "decade                   0\n",
       "lat                    379\n",
       "lon                    379\n",
       "dtype: int64"
      ]
     },
     "execution_count": 7,
     "metadata": {},
     "output_type": "execute_result"
    }
   ],
   "source": [
    "# checking for null values\n",
    "world_cup.isna().sum()"
   ]
  },
  {
   "cell_type": "code",
   "execution_count": 8,
   "metadata": {},
   "outputs": [],
   "source": [
    "# creating a new column with the winner of the match\n",
    "\n",
    "world_cup['winner'] = np.where(world_cup['home_score'] > world_cup['away_score'], world_cup['home_team'], world_cup['away_team'])"
   ]
  },
  {
   "cell_type": "code",
   "execution_count": 9,
   "metadata": {},
   "outputs": [
    {
     "data": {
      "text/html": [
       "<div>\n",
       "<style scoped>\n",
       "    .dataframe tbody tr th:only-of-type {\n",
       "        vertical-align: middle;\n",
       "    }\n",
       "\n",
       "    .dataframe tbody tr th {\n",
       "        vertical-align: top;\n",
       "    }\n",
       "\n",
       "    .dataframe thead th {\n",
       "        text-align: right;\n",
       "    }\n",
       "</style>\n",
       "<table border=\"1\" class=\"dataframe\">\n",
       "  <thead>\n",
       "    <tr style=\"text-align: right;\">\n",
       "      <th></th>\n",
       "      <th></th>\n",
       "      <th></th>\n",
       "      <th>N_games</th>\n",
       "    </tr>\n",
       "    <tr>\n",
       "      <th>city</th>\n",
       "      <th>lat</th>\n",
       "      <th>lon</th>\n",
       "      <th></th>\n",
       "    </tr>\n",
       "  </thead>\n",
       "  <tbody>\n",
       "    <tr>\n",
       "      <th>Guadalajara</th>\n",
       "      <th>20.6767</th>\n",
       "      <th>-103.3475</th>\n",
       "      <td>275</td>\n",
       "    </tr>\n",
       "    <tr>\n",
       "      <th>Montevideo</th>\n",
       "      <th>-34.8667</th>\n",
       "      <th>-56.1667</th>\n",
       "      <td>253</td>\n",
       "    </tr>\n",
       "    <tr>\n",
       "      <th>Rio de Janeiro</th>\n",
       "      <th>-22.9083</th>\n",
       "      <th>-43.1964</th>\n",
       "      <td>249</td>\n",
       "    </tr>\n",
       "    <tr>\n",
       "      <th>Rosario</th>\n",
       "      <th>-32.9575</th>\n",
       "      <th>-60.6394</th>\n",
       "      <td>202</td>\n",
       "    </tr>\n",
       "    <tr>\n",
       "      <th>Mexico City</th>\n",
       "      <th>19.4333</th>\n",
       "      <th>-99.1333</th>\n",
       "      <td>200</td>\n",
       "    </tr>\n",
       "    <tr>\n",
       "      <th>...</th>\n",
       "      <th>...</th>\n",
       "      <th>...</th>\n",
       "      <td>...</td>\n",
       "    </tr>\n",
       "    <tr>\n",
       "      <th>Seoul</th>\n",
       "      <th>37.5600</th>\n",
       "      <th>126.9900</th>\n",
       "      <td>7</td>\n",
       "    </tr>\n",
       "    <tr>\n",
       "      <th>Örebro</th>\n",
       "      <th>59.2669</th>\n",
       "      <th>15.1965</th>\n",
       "      <td>7</td>\n",
       "    </tr>\n",
       "    <tr>\n",
       "      <th>Middlesbrough</th>\n",
       "      <th>54.5767</th>\n",
       "      <th>-1.2355</th>\n",
       "      <td>6</td>\n",
       "    </tr>\n",
       "    <tr>\n",
       "      <th>Reims</th>\n",
       "      <th>49.2628</th>\n",
       "      <th>4.0347</th>\n",
       "      <td>6</td>\n",
       "    </tr>\n",
       "    <tr>\n",
       "      <th>Udine</th>\n",
       "      <th>46.0667</th>\n",
       "      <th>13.2333</th>\n",
       "      <td>5</td>\n",
       "    </tr>\n",
       "  </tbody>\n",
       "</table>\n",
       "<p>152 rows × 1 columns</p>\n",
       "</div>"
      ],
      "text/plain": [
       "                                   N_games\n",
       "city           lat      lon               \n",
       "Guadalajara     20.6767 -103.3475      275\n",
       "Montevideo     -34.8667 -56.1667       253\n",
       "Rio de Janeiro -22.9083 -43.1964       249\n",
       "Rosario        -32.9575 -60.6394       202\n",
       "Mexico City     19.4333 -99.1333       200\n",
       "...                                    ...\n",
       "Seoul           37.5600  126.9900        7\n",
       "Örebro          59.2669  15.1965         7\n",
       "Middlesbrough   54.5767 -1.2355          6\n",
       "Reims           49.2628  4.0347          6\n",
       "Udine           46.0667  13.2333         5\n",
       "\n",
       "[152 rows x 1 columns]"
      ]
     },
     "execution_count": 9,
     "metadata": {},
     "output_type": "execute_result"
    }
   ],
   "source": [
    "# cities there was most world cup matches with lat and lon\n",
    "top_world_cup_cities = world_cup.groupby(['city', 'lat', 'lon']).size().sort_values(ascending=False)\n",
    "top_world_cup_cities = pd.DataFrame(top_world_cup_cities)\n",
    "top_world_cup_cities.rename(columns={0: 'N_games'}, inplace=True)\n",
    "top_world_cup_cities"
   ]
  },
  {
   "cell_type": "code",
   "execution_count": 10,
   "metadata": {},
   "outputs": [
    {
     "data": {
      "text/html": [
       "<div>\n",
       "<style scoped>\n",
       "    .dataframe tbody tr th:only-of-type {\n",
       "        vertical-align: middle;\n",
       "    }\n",
       "\n",
       "    .dataframe tbody tr th {\n",
       "        vertical-align: top;\n",
       "    }\n",
       "\n",
       "    .dataframe thead th {\n",
       "        text-align: right;\n",
       "    }\n",
       "</style>\n",
       "<table border=\"1\" class=\"dataframe\">\n",
       "  <thead>\n",
       "    <tr style=\"text-align: right;\">\n",
       "      <th></th>\n",
       "      <th></th>\n",
       "      <th>N_games</th>\n",
       "    </tr>\n",
       "    <tr>\n",
       "      <th>city</th>\n",
       "      <th>year</th>\n",
       "      <th></th>\n",
       "    </tr>\n",
       "  </thead>\n",
       "  <tbody>\n",
       "    <tr>\n",
       "      <th>Basel</th>\n",
       "      <th>1954.0</th>\n",
       "      <td>52</td>\n",
       "    </tr>\n",
       "    <tr>\n",
       "      <th>Al Rayyan</th>\n",
       "      <th>2022.0</th>\n",
       "      <td>51</td>\n",
       "    </tr>\n",
       "    <tr>\n",
       "      <th>Doha</th>\n",
       "      <th>2022.0</th>\n",
       "      <td>44</td>\n",
       "    </tr>\n",
       "    <tr>\n",
       "      <th>Berne</th>\n",
       "      <th>1954.0</th>\n",
       "      <td>40</td>\n",
       "    </tr>\n",
       "    <tr>\n",
       "      <th>Johannesburg</th>\n",
       "      <th>2010.0</th>\n",
       "      <td>40</td>\n",
       "    </tr>\n",
       "    <tr>\n",
       "      <th>...</th>\n",
       "      <th>...</th>\n",
       "      <td>...</td>\n",
       "    </tr>\n",
       "    <tr>\n",
       "      <th>Orlando</th>\n",
       "      <th>1980.0</th>\n",
       "      <td>48</td>\n",
       "    </tr>\n",
       "    <tr>\n",
       "      <th rowspan=\"2\" valign=\"top\">Nuremberg</th>\n",
       "      <th>1998.0</th>\n",
       "      <td>26</td>\n",
       "    </tr>\n",
       "    <tr>\n",
       "      <th>1990.0</th>\n",
       "      <td>27</td>\n",
       "    </tr>\n",
       "    <tr>\n",
       "      <th>Norrköping</th>\n",
       "      <th>1998.0</th>\n",
       "      <td>25</td>\n",
       "    </tr>\n",
       "    <tr>\n",
       "      <th>Mendoza</th>\n",
       "      <th>2005.0</th>\n",
       "      <td>117</td>\n",
       "    </tr>\n",
       "  </tbody>\n",
       "</table>\n",
       "<p>1703 rows × 1 columns</p>\n",
       "</div>"
      ],
      "text/plain": [
       "                     N_games\n",
       "city         year           \n",
       "Basel        1954.0       52\n",
       "Al Rayyan    2022.0       51\n",
       "Doha         2022.0       44\n",
       "Berne        1954.0       40\n",
       "Johannesburg 2010.0       40\n",
       "...                      ...\n",
       "Orlando      1980.0       48\n",
       "Nuremberg    1998.0       26\n",
       "             1990.0       27\n",
       "Norrköping   1998.0       25\n",
       "Mendoza      2005.0      117\n",
       "\n",
       "[1703 rows x 1 columns]"
      ]
     },
     "execution_count": 10,
     "metadata": {},
     "output_type": "execute_result"
    }
   ],
   "source": [
    "# cities there was most world cup matches\n",
    "\n",
    "top_world_cup_cities_year = world_cup.groupby(['city', 'year']).size().sort_values(ascending=False)\n",
    "top_world_cup_cities_year = pd.DataFrame(top_world_cup_cities_year)\n",
    "top_world_cup_cities_year.rename(columns={0: 'N_games'}, inplace=True)\n",
    "top_world_cup_cities_year = top_world_cup_cities_year.groupby(['city']).cumsum()\n",
    "top_world_cup_cities_year"
   ]
  },
  {
   "cell_type": "code",
   "execution_count": 11,
   "metadata": {},
   "outputs": [
    {
     "data": {
      "text/html": [
       "<div>\n",
       "<style scoped>\n",
       "    .dataframe tbody tr th:only-of-type {\n",
       "        vertical-align: middle;\n",
       "    }\n",
       "\n",
       "    .dataframe tbody tr th {\n",
       "        vertical-align: top;\n",
       "    }\n",
       "\n",
       "    .dataframe thead th {\n",
       "        text-align: right;\n",
       "    }\n",
       "</style>\n",
       "<table border=\"1\" class=\"dataframe\">\n",
       "  <thead>\n",
       "    <tr style=\"text-align: right;\">\n",
       "      <th></th>\n",
       "      <th>year</th>\n",
       "      <th>team</th>\n",
       "      <th>goals</th>\n",
       "      <th>cumulative_goals</th>\n",
       "    </tr>\n",
       "  </thead>\n",
       "  <tbody>\n",
       "    <tr>\n",
       "      <th>0</th>\n",
       "      <td>1934.0</td>\n",
       "      <td>Argentina</td>\n",
       "      <td>10</td>\n",
       "      <td>10</td>\n",
       "    </tr>\n",
       "    <tr>\n",
       "      <th>1</th>\n",
       "      <td>1934.0</td>\n",
       "      <td>Austria</td>\n",
       "      <td>51</td>\n",
       "      <td>51</td>\n",
       "    </tr>\n",
       "    <tr>\n",
       "      <th>2</th>\n",
       "      <td>1934.0</td>\n",
       "      <td>Belgium</td>\n",
       "      <td>20</td>\n",
       "      <td>20</td>\n",
       "    </tr>\n",
       "    <tr>\n",
       "      <th>3</th>\n",
       "      <td>1934.0</td>\n",
       "      <td>Brazil</td>\n",
       "      <td>36</td>\n",
       "      <td>36</td>\n",
       "    </tr>\n",
       "    <tr>\n",
       "      <th>4</th>\n",
       "      <td>1934.0</td>\n",
       "      <td>Bulgaria</td>\n",
       "      <td>10</td>\n",
       "      <td>10</td>\n",
       "    </tr>\n",
       "    <tr>\n",
       "      <th>...</th>\n",
       "      <td>...</td>\n",
       "      <td>...</td>\n",
       "      <td>...</td>\n",
       "      <td>...</td>\n",
       "    </tr>\n",
       "    <tr>\n",
       "      <th>987</th>\n",
       "      <td>2022.0</td>\n",
       "      <td>Switzerland</td>\n",
       "      <td>1</td>\n",
       "      <td>183</td>\n",
       "    </tr>\n",
       "    <tr>\n",
       "      <th>988</th>\n",
       "      <td>2022.0</td>\n",
       "      <td>Tunisia</td>\n",
       "      <td>1</td>\n",
       "      <td>14</td>\n",
       "    </tr>\n",
       "    <tr>\n",
       "      <th>989</th>\n",
       "      <td>2022.0</td>\n",
       "      <td>United States</td>\n",
       "      <td>2</td>\n",
       "      <td>102</td>\n",
       "    </tr>\n",
       "    <tr>\n",
       "      <th>990</th>\n",
       "      <td>2022.0</td>\n",
       "      <td>Uruguay</td>\n",
       "      <td>1</td>\n",
       "      <td>202</td>\n",
       "    </tr>\n",
       "    <tr>\n",
       "      <th>991</th>\n",
       "      <td>2022.0</td>\n",
       "      <td>Wales</td>\n",
       "      <td>0</td>\n",
       "      <td>0</td>\n",
       "    </tr>\n",
       "  </tbody>\n",
       "</table>\n",
       "<p>992 rows × 4 columns</p>\n",
       "</div>"
      ],
      "text/plain": [
       "       year           team  goals  cumulative_goals\n",
       "0    1934.0      Argentina     10                10\n",
       "1    1934.0        Austria     51                51\n",
       "2    1934.0        Belgium     20                20\n",
       "3    1934.0         Brazil     36                36\n",
       "4    1934.0       Bulgaria     10                10\n",
       "..      ...            ...    ...               ...\n",
       "987  2022.0    Switzerland      1               183\n",
       "988  2022.0        Tunisia      1                14\n",
       "989  2022.0  United States      2               102\n",
       "990  2022.0        Uruguay      1               202\n",
       "991  2022.0          Wales      0                 0\n",
       "\n",
       "[992 rows x 4 columns]"
      ]
     },
     "execution_count": 11,
     "metadata": {},
     "output_type": "execute_result"
    }
   ],
   "source": [
    "# cities there was most world cup matches\n",
    "\n",
    "goals_by_team = world_cup.groupby(['year', 'home_team'])['home_score'].sum().reset_index().sort_values(by=['year', 'home_team'])\n",
    "goals_by_team['cumulative_goals'] = goals_by_team.groupby('home_team')['home_score'].cumsum()\n",
    "goals_by_team.rename(columns={'home_team': 'team', 'home_score': 'goals'}, inplace=True)\n",
    "goals_by_team\n"
   ]
  },
  {
   "cell_type": "code",
   "execution_count": 12,
   "metadata": {},
   "outputs": [
    {
     "data": {
      "text/html": [
       "<div>\n",
       "<style scoped>\n",
       "    .dataframe tbody tr th:only-of-type {\n",
       "        vertical-align: middle;\n",
       "    }\n",
       "\n",
       "    .dataframe tbody tr th {\n",
       "        vertical-align: top;\n",
       "    }\n",
       "\n",
       "    .dataframe thead th {\n",
       "        text-align: right;\n",
       "    }\n",
       "</style>\n",
       "<table border=\"1\" class=\"dataframe\">\n",
       "  <thead>\n",
       "    <tr style=\"text-align: right;\">\n",
       "      <th></th>\n",
       "      <th>year</th>\n",
       "      <th>team</th>\n",
       "      <th>goals</th>\n",
       "    </tr>\n",
       "  </thead>\n",
       "  <tbody>\n",
       "    <tr>\n",
       "      <th>980</th>\n",
       "      <td>2022.0</td>\n",
       "      <td>Portugal</td>\n",
       "      <td>71</td>\n",
       "    </tr>\n",
       "    <tr>\n",
       "      <th>964</th>\n",
       "      <td>2022.0</td>\n",
       "      <td>Brazil</td>\n",
       "      <td>60</td>\n",
       "    </tr>\n",
       "    <tr>\n",
       "      <th>970</th>\n",
       "      <td>2022.0</td>\n",
       "      <td>England</td>\n",
       "      <td>57</td>\n",
       "    </tr>\n",
       "    <tr>\n",
       "      <th>971</th>\n",
       "      <td>2022.0</td>\n",
       "      <td>France</td>\n",
       "      <td>54</td>\n",
       "    </tr>\n",
       "    <tr>\n",
       "      <th>986</th>\n",
       "      <td>2022.0</td>\n",
       "      <td>Spain</td>\n",
       "      <td>53</td>\n",
       "    </tr>\n",
       "    <tr>\n",
       "      <th>...</th>\n",
       "      <td>...</td>\n",
       "      <td>...</td>\n",
       "      <td>...</td>\n",
       "    </tr>\n",
       "    <tr>\n",
       "      <th>0</th>\n",
       "      <td>1934.0</td>\n",
       "      <td>Argentina</td>\n",
       "      <td>10</td>\n",
       "    </tr>\n",
       "    <tr>\n",
       "      <th>4</th>\n",
       "      <td>1934.0</td>\n",
       "      <td>Bulgaria</td>\n",
       "      <td>10</td>\n",
       "    </tr>\n",
       "    <tr>\n",
       "      <th>11</th>\n",
       "      <td>1934.0</td>\n",
       "      <td>Portugal</td>\n",
       "      <td>9</td>\n",
       "    </tr>\n",
       "    <tr>\n",
       "      <th>12</th>\n",
       "      <td>1934.0</td>\n",
       "      <td>Spain</td>\n",
       "      <td>9</td>\n",
       "    </tr>\n",
       "    <tr>\n",
       "      <th>9</th>\n",
       "      <td>1934.0</td>\n",
       "      <td>Mexico</td>\n",
       "      <td>0</td>\n",
       "    </tr>\n",
       "  </tbody>\n",
       "</table>\n",
       "<p>992 rows × 3 columns</p>\n",
       "</div>"
      ],
      "text/plain": [
       "       year       team  goals\n",
       "980  2022.0   Portugal     71\n",
       "964  2022.0     Brazil     60\n",
       "970  2022.0    England     57\n",
       "971  2022.0     France     54\n",
       "986  2022.0      Spain     53\n",
       "..      ...        ...    ...\n",
       "0    1934.0  Argentina     10\n",
       "4    1934.0   Bulgaria     10\n",
       "11   1934.0   Portugal      9\n",
       "12   1934.0      Spain      9\n",
       "9    1934.0     Mexico      0\n",
       "\n",
       "[992 rows x 3 columns]"
      ]
     },
     "execution_count": 12,
     "metadata": {},
     "output_type": "execute_result"
    }
   ],
   "source": [
    "# score by team and year\n",
    "score_by_team = world_cup.groupby(['year', 'home_team'])['home_score'].sum().reset_index().sort_values(by=['year', 'home_team'])\n",
    "score_by_team.rename(columns={'home_team': 'team', 'home_score': 'goals'}, inplace=True)\n",
    "score_by_team.sort_values(by=['year', 'goals'], ascending=False)"
   ]
  },
  {
   "cell_type": "code",
   "execution_count": 13,
   "metadata": {},
   "outputs": [
    {
     "data": {
      "text/plain": [
       "<AxesSubplot: title={'center': 'Number of games by confederation per decade'}, xlabel='decade'>"
      ]
     },
     "execution_count": 13,
     "metadata": {},
     "output_type": "execute_result"
    },
    {
     "data": {
      "image/png": "[encoded data removed]",
      "text/plain": [
       "<Figure size 1440x720 with 1 Axes>"
      ]
     },
     "metadata": {
      "needs_background": "light"
     },
     "output_type": "display_data"
    }
   ],
   "source": [
    "world_cup['conf'].groupby(world_cup['decade']).value_counts().unstack().plot(kind='bar', stacked=True, figsize=(20, 10), title= 'Number of games by confederation per decade')"
   ]
  },
  {
   "cell_type": "code",
   "execution_count": 14,
   "metadata": {},
   "outputs": [
    {
     "data": {
      "text/plain": [
       "<AxesSubplot: title={'center': 'Most winning teams'}>"
      ]
     },
     "execution_count": 14,
     "metadata": {},
     "output_type": "execute_result"
    },
    {
     "data": {
      "image/png": "[encoded data removed]",
      "text/plain": [
       "<Figure size 1440x720 with 1 Axes>"
      ]
     },
     "metadata": {
      "needs_background": "light"
     },
     "output_type": "display_data"
    }
   ],
   "source": [
    "# most winning team\n",
    "world_cup['winner'].value_counts().head(10).plot(kind='bar', figsize=(20, 10), title= 'Most winning teams')"
   ]
  },
  {
   "cell_type": "code",
   "execution_count": 15,
   "metadata": {},
   "outputs": [
    {
     "data": {
      "text/plain": [
       "<AxesSubplot: title={'center': 'Most goalscorers'}>"
      ]
     },
     "execution_count": 15,
     "metadata": {},
     "output_type": "execute_result"
    },
    {
     "data": {
      "image/png": "[encoded data removed]",
      "text/plain": [
       "<Figure size 1440x720 with 1 Axes>"
      ]
     },
     "metadata": {
      "needs_background": "light"
     },
     "output_type": "display_data"
    }
   ],
   "source": [
    "# best scorer\n",
    "world_cup['scorer'].value_counts().head(10).plot(kind='barh', figsize=(20, 10), title= 'Most goalscorers')"
   ]
  },
  {
   "cell_type": "code",
   "execution_count": 16,
   "metadata": {},
   "outputs": [
    {
     "data": {
      "text/plain": [
       "<AxesSubplot: title={'center': 'Most matches per country'}>"
      ]
     },
     "execution_count": 16,
     "metadata": {},
     "output_type": "execute_result"
    },
    {
     "data": {
      "image/png": "[encoded data removed]",
      "text/plain": [
       "<Figure size 1440x720 with 1 Axes>"
      ]
     },
     "metadata": {
      "needs_background": "light"
     },
     "output_type": "display_data"
    }
   ],
   "source": [
    "# matches per country\n",
    "world_cup['country'].value_counts().head(10).plot(kind='barh', figsize=(20, 10), title= 'Most matches per country')"
   ]
  },
  {
   "cell_type": "code",
   "execution_count": 17,
   "metadata": {},
   "outputs": [
    {
     "data": {
      "text/plain": [
       "<AxesSubplot: title={'center': 'Cities that hosted most matches'}, ylabel='city'>"
      ]
     },
     "execution_count": 17,
     "metadata": {},
     "output_type": "execute_result"
    },
    {
     "data": {
      "image/png": "[encoded data removed]",
      "text/plain": [
       "<Figure size 1440x720 with 1 Axes>"
      ]
     },
     "metadata": {},
     "output_type": "display_data"
    }
   ],
   "source": [
    "# which cities hosted most matches\n",
    "world_cup['city'].value_counts().head(5).plot(kind='pie', figsize=(20, 10), title= 'Cities that hosted most matches')"
   ]
  }
 ],
 "metadata": {
  "kernelspec": {
   "display_name": "Python 3",
   "language": "python",
   "name": "python3"
  },
  "language_info": {
   "codemirror_mode": {
    "name": "ipython",
    "version": 3
   },
   "file_extension": ".py",
   "mimetype": "text/x-python",
   "name": "python",
   "nbconvert_exporter": "python",
   "pygments_lexer": "ipython3",
   "version": "3.10.6"
  },
  "orig_nbformat": 4,
  "vscode": {
   "interpreter": {
    "hash": "83b617c66aa9ed92efeb8629453f4b5eb61ab11a86f5ad7ba589d02897e9d812"
   }
  }
 },
 "nbformat": 4,
 "nbformat_minor": 2
}
